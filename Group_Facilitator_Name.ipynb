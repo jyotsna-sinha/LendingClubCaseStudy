{
 "cells": [
  {
   "cell_type": "markdown",
   "metadata": {},
   "source": [
    "# Lending Case Study"
   ]
  },
  {
   "cell_type": "code",
   "execution_count": null,
   "metadata": {},
   "outputs": [],
   "source": [
    "## Importing all necessary libs\n",
    "\n",
    "import pandas as pd\n",
    "import numpy as np\n",
    "import matplotlib.pyplot as plt\n",
    "import seaborn as sns\n",
    "\n",
    "pd.set_option('display.max_rows', 99999)"
   ]
  },
  {
   "cell_type": "code",
   "execution_count": null,
   "metadata": {},
   "outputs": [],
   "source": [
    "df = pd.read_csv('loan.csv')"
   ]
  },
  {
   "cell_type": "code",
   "execution_count": null,
   "metadata": {},
   "outputs": [],
   "source": [
    "df.head()"
   ]
  },
  {
   "cell_type": "code",
   "execution_count": null,
   "metadata": {},
   "outputs": [],
   "source": [
    "print(\"Shape: \", df.shape)\n",
    "df.columns[df.isna().sum() > 0]"
   ]
  },
  {
   "cell_type": "code",
   "execution_count": null,
   "metadata": {},
   "outputs": [],
   "source": [
    "## Dropping all columns that contain NULL values\n",
    "\n",
    "df.dropna(axis=1, how='all', inplace=True)\n",
    "print('Shape: ', df.shape)\n",
    "df.columns[df.isna().sum() > 0]"
   ]
  },
  {
   "cell_type": "code",
   "execution_count": null,
   "metadata": {},
   "outputs": [],
   "source": [
    "print(df.isna().sum()/len(df.columns))\n",
    "\n",
    "## Columns containing 0 null values\n",
    "print(df.columns[df.isna().sum() > 0])"
   ]
  },
  {
   "cell_type": "markdown",
   "metadata": {},
   "source": [
    "There are 14 more columns that still contains missing values.\n",
    "\n",
    "Filling in the missing values in the columns with the mode/mean/median of the columns can be done.\n",
    "Since there are 14 columns, \n",
    "Lets identify which of the columns would be needed for the analysis and which of the columns would not be needed for the analysis."
   ]
  },
  {
   "cell_type": "code",
   "execution_count": null,
   "metadata": {},
   "outputs": [],
   "source": [
    "print(df.columns)"
   ]
  },
  {
   "cell_type": "markdown",
   "metadata": {},
   "source": [
    "columns with all unique values can be dropped as they do not provide any information"
   ]
  },
  {
   "cell_type": "code",
   "execution_count": null,
   "metadata": {},
   "outputs": [],
   "source": [
    "## Identifying columns with all unique values\n",
    "print(\"Shape: \",df.shape)\n",
    "# print(df.nunique())\n",
    "df_unique = (df.nunique() == 1) \n",
    "df_unique = df_unique[df_unique == True]\n",
    "print(df_unique)\n",
    "\n",
    "\n",
    "## Dropping columns that contain only 1 unique value\n",
    "df.drop(df_unique.index, axis=1, inplace=True)\n",
    "df.shape"
   ]
  },
  {
   "cell_type": "code",
   "execution_count": null,
   "metadata": {},
   "outputs": [],
   "source": [
    "def print_unique_and_null_values(df_x):\n",
    "    print(df_x.shape)\n",
    "    # for col in df.columns:\n",
    "    #     print(col, df[col].nunique(), df[col].isna().sum())\n",
    "    na_sum = df_x.isna().sum()\n",
    "    n_unique = df_x.nunique()\n",
    "    na_percentage = ((na_sum/len(df_x)) * 100).astype(int).apply(str) + '%'\n",
    "\n",
    "    na_sum_df = na_sum.reset_index()\n",
    "    n_unique_df = n_unique.reset_index()\n",
    "    na_percentage_df = na_percentage.reset_index()\n",
    "\n",
    "    n_unique_df.columns = ['Column', 'Unique Values']\n",
    "    na_sum_df.columns = ['Column', 'Missing Values']\n",
    "    na_percentage_df.columns = ['Column', 'Missing Percentage']\n",
    "\n",
    "    merged_df = pd.merge( n_unique_df,na_sum_df, on='Column')\n",
    "    merged_df = pd.merge(merged_df, na_percentage_df, on='Column')\n",
    "    print(merged_df)"
   ]
  },
  {
   "cell_type": "code",
   "execution_count": null,
   "metadata": {},
   "outputs": [],
   "source": [
    "print(\"Shape: \\n\", df.shape)\n",
    "print_unique_and_null_values(df)"
   ]
  },
  {
   "cell_type": "markdown",
   "metadata": {},
   "source": [
    "Columns that are not required for analysis\n",
    "(based on the value present in the cells and data dictionary)"
   ]
  },
  {
   "cell_type": "code",
   "execution_count": null,
   "metadata": {},
   "outputs": [],
   "source": [
    "def remove_columns(df, columns_to_remove):\n",
    "    df_x = df.copy()\n",
    "    df_x.drop(columns_to_remove, axis=1, inplace=True)\n",
    "    return df_x\n",
    "\n",
    "\n",
    "# Columns that are not required for analysis based on the present value and data dictionary\n",
    "irrelevant_columns = np.array([\n",
    "    # 'id',\n",
    "    'member_id',\n",
    "    'url',\n",
    "    'desc',\n",
    "    'title',\n",
    "    'zip_code',\n",
    "    # 'addr_state',\n",
    "])\n",
    "\n",
    "print(\"irrelevant_columns.shape: \", irrelevant_columns.shape)\n",
    "\n",
    "df_1 = remove_columns(df, irrelevant_columns)\n",
    "\n",
    "print(\"Shape: \\n\", df_1.shape)\n",
    "print_unique_and_null_values(df_1)"
   ]
  },
  {
   "cell_type": "code",
   "execution_count": null,
   "metadata": {},
   "outputs": [],
   "source": [
    "# Columns that are post-loan approval and not required for analysis\n",
    "post_approval_columns = np.array([\n",
    "    'emp_title', \n",
    "\n",
    "    'funded_amnt',\n",
    "\n",
    "    'issue_d', \n",
    "    'delinq_2yrs', \n",
    "    \n",
    "    'mths_since_last_delinq',\n",
    "    'mths_since_last_record',\n",
    "\n",
    "    'revol_bal',\n",
    "\n",
    "    \"out_prncp\",\n",
    "    \"out_prncp_inv\",\n",
    "\n",
    "    'total_pymnt',\n",
    "    'total_pymnt_inv',\n",
    "    'total_rec_prncp',\n",
    "    'total_rec_int',\n",
    "    'total_rec_late_fee',\n",
    "\n",
    "    'recoveries',\n",
    "    'collection_recovery_fee', \n",
    "\n",
    "    'last_pymnt_d',\n",
    "    'last_pymnt_amnt', \n",
    "    'next_pymnt_d', \n",
    "    'last_credit_pull_d'\n",
    "    # 'pub_rec_bankruptcies'\n",
    "    ])\n",
    "\n",
    "print(\"post_approval_columns.shape: \",post_approval_columns.shape)\n",
    "\n",
    "df_1 = remove_columns(df_1, post_approval_columns)\n",
    "\n",
    "print(\"Shape: \\n\", df_1.shape)\n",
    "print_unique_and_null_values(df_1)\n"
   ]
  },
  {
   "cell_type": "code",
   "execution_count": null,
   "metadata": {},
   "outputs": [],
   "source": [
    "# removing outliers from annual_income\n",
    "sns.boxplot(df_1['annual_inc'])"
   ]
  },
  {
   "cell_type": "code",
   "execution_count": null,
   "metadata": {},
   "outputs": [],
   "source": [
    "quantile_info = df_1.annual_inc.quantile([0.5, 0.75,0.90, 0.95, 0.97,0.98, 0.99,1.0])\n",
    "quantile_info"
   ]
  },
  {
   "cell_type": "code",
   "execution_count": null,
   "metadata": {},
   "outputs": [],
   "source": [
    "per_95_annual_inc = df_1['annual_inc'].quantile(0.99)\n",
    "df_1 = df_1[df_1.annual_inc <= per_95_annual_inc]"
   ]
  },
  {
   "cell_type": "markdown",
   "metadata": {},
   "source": [
    "# Data Standardization"
   ]
  },
  {
   "cell_type": "code",
   "execution_count": null,
   "metadata": {},
   "outputs": [],
   "source": [
    "## emp_length column\n",
    "\n",
    "emp_length_default = df_1['emp_length'].mode()[0]\n",
    "\n",
    "df_1['emp_length'].value_counts()\n",
    "df_1['emp_length'].fillna(emp_length_default, inplace=True)\n",
    "\n",
    "print_unique_and_null_values(df_1)"
   ]
  },
  {
   "cell_type": "code",
   "execution_count": null,
   "metadata": {},
   "outputs": [],
   "source": [
    "## revol_util column\n",
    "df_1['revol_util'].isna().sum()\n",
    "\n",
    "## since the number of missing values is very low, we can drop the rows with missing values\n",
    "df_1.dropna(axis=0, subset=['revol_util'], inplace=True)\n",
    "\n",
    "print_unique_and_null_values(df_1)"
   ]
  },
  {
   "cell_type": "code",
   "execution_count": null,
   "metadata": {},
   "outputs": [],
   "source": [
    "## pub_rec_bankruptcies column\n",
    "\n",
    "df_1['pub_rec_bankruptcies'].value_counts()\n",
    "\n",
    "## records with loan_status == 'Current', should not be considered for analysis, since the loan_status is not final\n",
    "df_1= df_1[ df_1['loan_status'] != 'Current' ]\n",
    "\n",
    "\n",
    "## records with loan_status == 'Fully Paid', probabily have pub_rec_bankruptcies == 0\n",
    "# df_1['pub_rec_bankruptcies'] = np.where(df_1['loan_status'] == 'Fully Paid', 0, df_1['pub_rec_bankruptcies'])\n",
    "\n",
    "print_unique_and_null_values(df_1)"
   ]
  },
  {
   "cell_type": "code",
   "execution_count": null,
   "metadata": {},
   "outputs": [],
   "source": [
    "## pub_rec_bankruptcies column\n",
    "df_1_pub_rec_bankruptcies_na = df_1[ df_1['pub_rec_bankruptcies'].isna()]\n",
    "\n",
    "count = df_1['loan_status'].value_counts()\n",
    "na_len =  df_1_pub_rec_bankruptcies_na['loan_status'].value_counts()\n",
    "\n",
    "print(count)\n",
    "print(na_len)\n",
    "print('\\n',(na_len/count)*100)"
   ]
  },
  {
   "cell_type": "code",
   "execution_count": null,
   "metadata": {},
   "outputs": [],
   "source": [
    "## since the ratio of missing values is very low, we can drop the rows with missing values\n",
    "df_1.dropna(axis=0, subset=['pub_rec_bankruptcies'], inplace=True)\n",
    "\n",
    "print_unique_and_null_values(df_1)"
   ]
  },
  {
   "cell_type": "code",
   "execution_count": null,
   "metadata": {},
   "outputs": [],
   "source": [
    "df_1.info()"
   ]
  },
  {
   "cell_type": "code",
   "execution_count": null,
   "metadata": {},
   "outputs": [],
   "source": [
    "df_2 = df_1.copy()\n",
    "\n",
    "df_2['term'] = df_2['term'].str.extract('(\\d+)').astype(int)\n",
    "df_2['int_rate'] = df_2['int_rate'].str.extract('(\\d+.\\d+)').astype(float)\n",
    "df_2['emp_length'] = df_2['emp_length'].str.extract('(\\d+)').astype(int)\n",
    "\n",
    "\n",
    "def standardize_dates(date_str):\n",
    "    if '/' in date_str:\n",
    "        return pd.to_datetime(date_str, format='%d/%m/%Y', errors='coerce').strftime('%Y-%m-%d')\n",
    "    else:\n",
    "        return pd.to_datetime(date_str, format='%b-%y', errors='coerce').strftime('%Y-%m-%d')\n",
    "\n",
    "# df_2['earliest_cr_line'] = df_2['earliest_cr_line'].apply(lambda x: standardize_dates(x))\n",
    "\n",
    "# df_2['earliest_cr_line'] = pd.to_datetime(df_2['earliest_cr_line'], format='%Y-%m-%d', errors='coerce')\n",
    "\n",
    "\n",
    "print(df_2.info())\n",
    "(df_2.head())\n"
   ]
  },
  {
   "cell_type": "markdown",
   "metadata": {},
   "source": [
    "#  Analysis"
   ]
  },
  {
   "cell_type": "markdown",
   "metadata": {},
   "source": [
    "##  Univariate Analysis"
   ]
  },
  {
   "cell_type": "markdown",
   "metadata": {},
   "source": [
    "### Categorical data"
   ]
  },
  {
   "cell_type": "code",
   "execution_count": null,
   "metadata": {},
   "outputs": [],
   "source": [
    "df_3 = df_2.copy()\n",
    "\n",
    "df_3_charged_off = df_3[ df_3['loan_status'] == 'Charged Off']\n",
    "df_3_fully_paid = df_3[ df_3['loan_status'] == 'Fully Paid']"
   ]
  },
  {
   "cell_type": "code",
   "execution_count": null,
   "metadata": {},
   "outputs": [],
   "source": [
    "# print(df_3['loan_status'].value_counts())\n",
    "# df_3['loan_status'].value_counts().plot(kind='bar')\n",
    "\n",
    "\n",
    "sns.countplot(x='loan_status', data=df_2)\n",
    "plt.title('Count of Items in Each Status')\n",
    "plt.xlabel('Loan Status')\n",
    "plt.ylabel('Count')\n",
    "plt.show()"
   ]
  },
  {
   "cell_type": "code",
   "execution_count": null,
   "metadata": {},
   "outputs": [],
   "source": [
    "# sns.countplot( x='grade', order = ['A', 'B', 'C', 'D', 'E', 'F', 'G'], data=df_3_charged_off)\n",
    "# plt.title('Distribution of Charged Off Loans by Grade')\n",
    "# plt.xlabel('Category')\n",
    "# plt.ylabel('Value')\n",
    "# plt.show()"
   ]
  },
  {
   "cell_type": "code",
   "execution_count": null,
   "metadata": {},
   "outputs": [],
   "source": [
    "fig, axes = plt.subplots(1, 2, figsize=(12, 6))  # 1 row, 2 columns\n",
    "\n",
    "axes[0].set_title('Distribution of Fully Paid Loans by Grade')\n",
    "axes[1].set_title('Distribution of Charged Off Loans by Grade')\n",
    "\n",
    "sns.countplot( x='grade', order = ['A', 'B', 'C', 'D', 'E', 'F', 'G'], data=df_3_fully_paid, ax=axes[0])\n",
    "sns.countplot( x='grade', order = ['A', 'B', 'C', 'D', 'E', 'F', 'G'], data=df_3_charged_off, ax=axes[1])\n",
    "\n",
    "plt.show()"
   ]
  },
  {
   "cell_type": "code",
   "execution_count": null,
   "metadata": {},
   "outputs": [],
   "source": [
    "fig, axes = plt.subplots(2,2, figsize=(10, 6))  # 1 row, 2 columns\n",
    "\n",
    "axes[0][0].set_title('Distribution of Fully Paid Loans by Grade')\n",
    "axes[0][1].set_title('Distribution of Charged Off Loans by Grade')\n",
    "\n",
    "## by subgrades\n",
    "axes[1][0].set_title('Distribution of Fully Paid Loans by Subgrade')\n",
    "axes[1][1].set_title('Distribution of Charged Off Loans by Subgrade')\n",
    "\n",
    "sns.countplot( x='grade', order = ['A', 'B', 'C', 'D', 'E', 'F', 'G'], data=df_3_fully_paid, ax=axes[0][0])\n",
    "sns.countplot( x='grade', order = ['A', 'B', 'C', 'D', 'E', 'F', 'G'], data=df_3_charged_off, ax=axes[0][1])\n",
    "\n",
    "sns.countplot( x='sub_grade', order = ['A1', 'A2', 'A3', 'A4', 'A5', 'B1', 'B2', 'B3', 'B4', 'B5', 'C1', 'C2', 'C3', 'C4', 'C5', 'D1', 'D2', 'D3', 'D4', 'D5', 'E1', 'E2', 'E3', 'E4', 'E5', 'F1', 'F2', 'F3', 'F4', 'F5', 'G1', 'G2', 'G3', 'G4', 'G5'], data=df_3_fully_paid, ax=axes[1][0])\n",
    "sns.countplot( x='sub_grade', order = ['A1', 'A2', 'A3', 'A4', 'A5', 'B1', 'B2', 'B3', 'B4', 'B5', 'C1', 'C2', 'C3', 'C4', 'C5', 'D1', 'D2', 'D3', 'D4', 'D5', 'E1', 'E2', 'E3', 'E4', 'E5', 'F1', 'F2', 'F3', 'F4', 'F5', 'G1', 'G2', 'G3', 'G4', 'G5'], data=df_3_charged_off, ax=axes[1][1])\n",
    "\n",
    "plt.show()"
   ]
  },
  {
   "cell_type": "code",
   "execution_count": null,
   "metadata": {},
   "outputs": [],
   "source": [
    "df_3['sub_grade'] = pd.to_numeric(df_3.sub_grade.apply(lambda x : x[-1]))\n",
    "df_3_charged_off = df_3[ df_3['loan_status'] == 'Charged Off']\n",
    "df_3_fully_paid = df_3[ df_3['loan_status'] == 'Fully Paid']"
   ]
  },
  {
   "cell_type": "code",
   "execution_count": null,
   "metadata": {},
   "outputs": [],
   "source": [
    "fig, axes = plt.subplots( figsize=(12, 6))  # 1 row, 2 columns\n",
    "\n",
    "axes.set_title('Distribution of Charged Off Loans by Grade')\n",
    "sns.countplot( x='grade', order = ['A', 'B', 'C', 'D', 'E', 'F', 'G'], hue = 'sub_grade', data=df_3_charged_off )\n",
    "plt.show()"
   ]
  },
  {
   "cell_type": "code",
   "execution_count": null,
   "metadata": {},
   "outputs": [],
   "source": [
    "print(df_3_charged_off['purpose'].value_counts())\n",
    "\n",
    "ig, ax = plt.subplots(figsize = (10,8))\n",
    "sns.countplot(x ='purpose', data=df_3_charged_off)\n",
    "ax.set_xticklabels(ax.get_xticklabels(), rotation=40, ha=\"right\")\n",
    "plt.show()"
   ]
  },
  {
   "cell_type": "code",
   "execution_count": null,
   "metadata": {},
   "outputs": [],
   "source": [
    "# since the number of records for 'debt_consolidation' is very high,let try using a log scale\n",
    "ig, ax = plt.subplots(figsize = (10,8))\n",
    "sns.countplot(y ='purpose', data=df_3_charged_off)\n",
    "ax.set(xscale = 'log')\n",
    "plt.show()"
   ]
  },
  {
   "cell_type": "code",
   "execution_count": null,
   "metadata": {},
   "outputs": [],
   "source": [
    "df_3.info()"
   ]
  },
  {
   "cell_type": "code",
   "execution_count": null,
   "metadata": {},
   "outputs": [],
   "source": [
    "print(df_3['home_ownership'].value_counts())\n",
    "\n",
    "fig, axes = plt.subplots( figsize=(12, 6))\n",
    "axes.set_title('Distribution of Charged Off Loans by Home Ownership')\n",
    "sns.countplot( x='home_ownership', order=[ 'RENT', 'MORTGAGE', 'OWN', 'OTHER'], data=df_3_charged_off)\n",
    "axes.set(yscale = 'log')  # since the count of 'OTHER' is very low\n",
    "plt.show() "
   ]
  },
  {
   "cell_type": "code",
   "execution_count": null,
   "metadata": {},
   "outputs": [],
   "source": [
    "print(df_3['home_ownership'].value_counts())\n",
    "\n",
    "fig, axes = plt.subplots( figsize=(12, 6))\n",
    "axes.set_title('Distribution of Charged Off Loans by Home Ownership')\n",
    "sns.countplot( x='home_ownership', order=[ 'RENT', 'MORTGAGE', 'OWN', 'OTHER'], data=df_3_charged_off)\n",
    "axes.set(yscale = 'log')  # since the count of 'OTHER' is very low\n",
    "plt.show() "
   ]
  },
  {
   "cell_type": "code",
   "execution_count": null,
   "metadata": {},
   "outputs": [],
   "source": [
    "print(df_3_charged_off['verification_status'].value_counts())\n",
    "\n",
    "fig, axes = plt.subplots( figsize=(12, 6))\n",
    "axes.set_title('Distribution of Charged Off Loans by Verification Status')\n",
    "sns.countplot( x='verification_status', order=[ 'Source Verified', 'Verified','Not Verified',], data=df_3_charged_off)\n",
    "plt.show() "
   ]
  },
  {
   "cell_type": "code",
   "execution_count": null,
   "metadata": {},
   "outputs": [],
   "source": [
    "df_3['revol_util'] = df_3['revol_util'].str.extract('(\\d+.\\d+)').astype(float)\n",
    "\n",
    "df_3['revol_util_groups'] = pd.cut(df_3['revol_util'], bins=5,precision =0,labels=['0-20','20-40','40-60','60-80','80-100'])\n",
    "\n",
    "df_3_charged_off = df_3[ df_3['loan_status'] == 'Charged Off']\n",
    "df_3_fully_paid = df_3[ df_3['loan_status'] == 'Fully Paid']"
   ]
  },
  {
   "cell_type": "code",
   "execution_count": null,
   "metadata": {},
   "outputs": [],
   "source": [
    "print(df_3_charged_off['revol_util_groups'].value_counts())\n",
    "\n",
    "fig, axes = plt.subplots( figsize=(12, 6))\n",
    "axes.set_title('Distribution of Charged Off Loans by Revolving Utilization')\n",
    "sns.countplot( x='revol_util_groups', data=df_3_charged_off)\n",
    "plt.show()"
   ]
  },
  {
   "cell_type": "markdown",
   "metadata": {},
   "source": [
    "### Numerical data"
   ]
  },
  {
   "cell_type": "code",
   "execution_count": null,
   "metadata": {},
   "outputs": [],
   "source": [
    "df_3.info()"
   ]
  },
  {
   "cell_type": "code",
   "execution_count": null,
   "metadata": {},
   "outputs": [],
   "source": [
    "# function to create bins and show chart\n",
    "\n",
    "def count_plot_with_custom_bins(df_x,column, title, bins, labels, log_scale=False):\n",
    "    df_y = df_x.copy()\n",
    "    new_column = column + '_groups'\n",
    "\n",
    "    df_y[new_column] = pd.cut(df_y[column], bins=bins,precision =0,labels=labels)\n",
    "\n",
    "    fig, axes = plt.subplots( figsize=(12, 6))\n",
    "    axes.set_title(title)\n",
    "    sns.countplot( x=new_column, data=df_y, order=labels)\n",
    "    if log_scale:\n",
    "        axes.set(yscale = 'log')\n",
    "    plt.show()"
   ]
  },
  {
   "cell_type": "code",
   "execution_count": null,
   "metadata": {},
   "outputs": [],
   "source": [
    "# print(df_3_charged_off['loan_amnt'].describe( percentiles=[0.25, 0.5, 0.75, 0.9, 0.95,0.98, 0.99,1]))\n",
    "\n",
    "min_loan_amnt = df_3['loan_amnt'].quantile(0.01)\n",
    "max_loan_amnt = df_3['loan_amnt'].quantile(0.99)\n",
    "diff = max_loan_amnt - min_loan_amnt\n",
    "\n",
    "print(min_loan_amnt, max_loan_amnt, diff)\n",
    "#min = 1200\n",
    "#max = 35000\n",
    "\n",
    "\n",
    "no_of_bins = 7\n",
    "bin_labels= [\n",
    "    '0-5k',\n",
    "    '5k-10k',\n",
    "    '10k-15k',\n",
    "    '15k-20k',\n",
    "    '20k-25k',\n",
    "    '25k-30k',\n",
    "    '30k-35k'\n",
    "]\n",
    "\n",
    "count_plot_with_custom_bins(df_3_charged_off, 'loan_amnt', 'Distribution of Charged Off Loans by Loan Amount',  bins=no_of_bins, labels=bin_labels, log_scale=False)\n",
    "\n",
    "\n",
    "no_of_bins = 9\n",
    "bin_labels= [\n",
    "    '0-4k',\n",
    "    '4k-8k',\n",
    "    '8k-12k',\n",
    "    '12k-16k',\n",
    "    '16k-20k',\n",
    "    '20k-24k',\n",
    "    '24k-28k',\n",
    "    '28k-32k',\n",
    "    '32k-36k'\n",
    "]\n",
    "\n",
    "count_plot_with_custom_bins(df_3_charged_off, 'loan_amnt', 'Distribution of Charged Off Loans by Loan Amount',  bins=no_of_bins, labels=bin_labels, log_scale=False)\n",
    "\n",
    "\n"
   ]
  },
  {
   "cell_type": "code",
   "execution_count": null,
   "metadata": {},
   "outputs": [],
   "source": [
    "print(df_3_charged_off['term'].value_counts())\n",
    "\n",
    "fig, axes = plt.subplots( figsize=(12, 6))\n",
    "axes.set_title('Distribution of Charged Off Loans by Term')\n",
    "sns.countplot( x='term', data=df_3_charged_off)\n",
    "plt.show()"
   ]
  },
  {
   "cell_type": "code",
   "execution_count": null,
   "metadata": {},
   "outputs": [],
   "source": [
    "no_of_bins = 5\n",
    "bin_labels= [\n",
    "    '5%-9%',\n",
    "    '9%-13%',\n",
    "    '13%-17%',\n",
    "    '17%-21%',\n",
    "    '21%-24%'\n",
    "]\n",
    "\n",
    "count_plot_with_custom_bins(df_3_charged_off, 'int_rate', 'Distribution of Charged Off Loans by Interest Rate',  bins=no_of_bins, labels=bin_labels, log_scale=False)\n",
    "\n",
    "no_of_bins = 7\n",
    "bin_labels= [\n",
    "    '5%-8%',\n",
    "    '8%-11%',\n",
    "    '11%-14%',\n",
    "    '14%-17%',\n",
    "    '17%-20%',\n",
    "    '20%-23%',\n",
    "    '23%-26%'\n",
    "]\n",
    "\n",
    "count_plot_with_custom_bins(df_3_charged_off, 'int_rate', 'Distribution of Charged Off Loans by Interest Rate',  bins=no_of_bins, labels=bin_labels, log_scale=False)\n",
    "\n",
    "\n",
    "no_of_bins = 9\n",
    "bin_labels = [\n",
    "    '5%-7%', '7%-9%', '9%-11%', '11%-13%', '13%-15%', '15%-17%', '17%-19%', '19%-21%', '21%-24%'\n",
    "]\n",
    "count_plot_with_custom_bins(df_3_charged_off, 'int_rate', 'Distribution of Charged Off Loans by Interest Rate',  bins=no_of_bins, labels=bin_labels, log_scale=False)"
   ]
  },
  {
   "cell_type": "code",
   "execution_count": null,
   "metadata": {},
   "outputs": [],
   "source": [
    "# installments\n",
    "\n",
    "# min - 16.08 \n",
    "# max - 1305.19\n",
    "\n",
    "no_of_bins = 5\n",
    "bin_labels = [\n",
    "    '0-300', '300-600', '600-900', '900-1200', '1200-1500'\n",
    "]\n",
    "\n",
    "count_plot_with_custom_bins(df_3_charged_off, 'installment', 'Distribution of Charged Off Loans by Installment',  bins=no_of_bins, labels=bin_labels, log_scale=False)\n",
    "\n",
    "\n",
    "no_of_bins = 7\n",
    "bin_labels = [\n",
    "    '0-200', '200-400', '400-600', '600-800', '800-1000', '1000-1200', '1200-1400'\n",
    "]\n",
    "\n",
    "count_plot_with_custom_bins(df_3_charged_off, 'installment', 'Distribution of Charged Off Loans by Installment',  bins=no_of_bins, labels=bin_labels, log_scale=False)\n",
    "\n",
    "\n",
    "no_of_bins = 9\n",
    "bin_labels = [\n",
    "    '0-150', '150-300', '300-450', '450-600', '600-750', '750-900', '900-1050', '1050-1200', '1200-1350'\n",
    "]\n",
    "\n",
    "count_plot_with_custom_bins(df_3_charged_off, 'installment', 'Distribution of Charged Off Loans by Installment',  bins=no_of_bins, labels=bin_labels, log_scale=False)\n"
   ]
  },
  {
   "cell_type": "code",
   "execution_count": null,
   "metadata": {},
   "outputs": [],
   "source": [
    "print(df_3_charged_off['emp_length'].value_counts())\n",
    "\n",
    "fig, axes = plt.subplots( figsize=(12, 6))\n",
    "axes.set_title('Distribution of Charged Off Loans by Employment Length')\n",
    "sns.countplot( x='emp_length', data=df_3_charged_off)\n",
    "plt.show()"
   ]
  },
  {
   "cell_type": "code",
   "execution_count": null,
   "metadata": {},
   "outputs": [],
   "source": [
    "df_3['annual_inc'].describe( percentiles=[.25, .5, .75, .9, .95, .99])"
   ]
  },
  {
   "cell_type": "code",
   "execution_count": null,
   "metadata": {},
   "outputs": [],
   "source": [
    "min_value = df_3['annual_inc'].min()  #4000.0\n",
    "max_value = df_3['annual_inc'].max()  #234996.0\n",
    "\n",
    "no_of_bins = 5\n",
    "bin_labels = [\n",
    "    '0-50k', '50k-100k', '100k-150k', '150k-200k', '200k-250k'\n",
    "]\n",
    "count_plot_with_custom_bins(df_3_charged_off, 'annual_inc', 'Distribution of Charged Off Loans by Annual Income',  bins=no_of_bins, labels=bin_labels, log_scale=False)\n",
    "\n",
    "\n",
    "no_of_bins = 7\n",
    "bin_labels = [\n",
    "    '0-35k', '35k-70k', '70k-105k', '105k-140k', '140k-175k', '175k-210k', '210k-245k' \n",
    "]\n",
    "count_plot_with_custom_bins(df_3_charged_off, 'annual_inc', 'Distribution of Charged Off Loans by Annual Income',  bins=no_of_bins, labels=bin_labels, log_scale=False)\n",
    "\n",
    "no_of_bins = 9\n",
    "bin_labels = [\n",
    "    '0-26k', '26k-52k', '52k-78k', '78k-104k', '104k-130k', '130k-156k', '156k-182k', '182k-208k', '208k-234k'\n",
    "]\n",
    "\n",
    "count_plot_with_custom_bins(df_3_charged_off, 'annual_inc', 'Distribution of Charged Off Loans by Annual Income',  bins=no_of_bins, labels=bin_labels, log_scale=False)\n",
    "\n",
    "no_of_bins = 11\n",
    "bin_labels = [\n",
    "  '4k-24k',\n",
    "'24k-45k',\n",
    "'45k-66k',\n",
    "'66k-87k',\n",
    "'87k-108k',\n",
    "'108k-129k',\n",
    "'129k-150k',\n",
    "'150k-171k',\n",
    "'171k-192k',\n",
    "'192k-213k',\n",
    "'213k-234k'\n",
    "]\n",
    "count_plot_with_custom_bins(df_3_charged_off, 'annual_inc', 'Distribution of Charged Off Loans by Annual Income',  bins=no_of_bins, labels=bin_labels, log_scale=False)"
   ]
  },
  {
   "cell_type": "code",
   "execution_count": null,
   "metadata": {},
   "outputs": [],
   "source": [
    "# dti\n",
    "min_value = df_3_charged_off['dti'].min()  #0.0\n",
    "max_value = df_3_charged_off['dti'].max()  #29.99\n",
    "print(min_value, max_value)\n",
    "\n",
    "no_of_bins = 3\n",
    "bin_labels = [\n",
    "    '0-10', '10-20', '20-30'\n",
    "]\n",
    "count_plot_with_custom_bins(df_3_charged_off, 'dti', 'Distribution of Charged Off Loans by Debt to Income Ratio',  bins=no_of_bins, labels=bin_labels, log_scale=False)\n",
    "\n",
    "no_of_bins = 5\n",
    "bin_labels = [\n",
    "    '0-6', '6-12', '12-18', '18-24', '24-30'\n",
    "]\n",
    "count_plot_with_custom_bins(df_3_charged_off, 'dti', 'Distribution of Charged Off Loans by Debt to Income Ratio',  bins=no_of_bins, labels=bin_labels, log_scale=False)\n",
    "\n",
    "no_of_bins = 7\n",
    "bin_labels = [\n",
    "    '0-4', '4-8', '8-12', '12-16', '16-20', '20-24', '24-30'\n",
    "]\n",
    "count_plot_with_custom_bins(df_3_charged_off, 'dti', 'Distribution of Charged Off Loans by Debt to Income Ratio',  bins=no_of_bins, labels=bin_labels, log_scale=False)\n",
    "\n",
    "no_of_bins = 9\n",
    "bin_labels = [\n",
    "    '0-3', '3-6', '6-9', '9-12', '12-15', '15-18', '18-21', '21-24', '24-30'\n",
    "]\n",
    "count_plot_with_custom_bins(df_3_charged_off, 'dti', 'Distribution of Charged Off Loans by Debt to Income Ratio',  bins=no_of_bins, labels=bin_labels, log_scale=False)\n",
    "\n",
    "no_of_bins = 11\n",
    "bin_labels = [\n",
    "    '0-2', '2-4', '4-6', '6-8', '8-10', '10-12', '12-14', '14-16', '16-18', '18-20', '20-30'\n",
    "]\n",
    "count_plot_with_custom_bins(df_3_charged_off, 'dti', 'Distribution of Charged Off Loans by Debt to Income Ratio',  bins=no_of_bins, labels=bin_labels, log_scale=False)"
   ]
  },
  {
   "cell_type": "code",
   "execution_count": null,
   "metadata": {},
   "outputs": [],
   "source": [
    "# print(df_3_charged_off['inq_last_6mths'].value_counts())\n",
    "\n",
    "fig, axes = plt.subplots( figsize=(12, 6))\n",
    "sns.countplot( x='inq_last_6mths', data=df_3_charged_off)\n",
    "axes.set(yscale = 'log')\n",
    "plt.show()"
   ]
  },
  {
   "cell_type": "code",
   "execution_count": null,
   "metadata": {},
   "outputs": [],
   "source": [
    "print(df_3_charged_off['open_acc'].min(), df_3_charged_off['open_acc'].max())\n",
    "\n",
    "# min - 2\n",
    "# max - 38\n",
    "\n",
    "no_of_bins = 5\n",
    "bin_labels = [\n",
    "    '0-8', '8-16', '16-24', '24-32', '32-40'\n",
    "]\n",
    "count_plot_with_custom_bins(df_3_charged_off, 'open_acc', 'Distribution of Charged Off Loans by Open Accounts',  bins=no_of_bins, labels=bin_labels, log_scale=False)\n",
    "\n",
    "# min - 2\n",
    "# max - 38\n",
    "\n",
    "no_of_bins = 6\n",
    "bin_labels = [\n",
    "    '0-6', '6-12', '12-18', '18-24', '24-30', '30-36'\n",
    "]\n",
    "count_plot_with_custom_bins(df_3_charged_off, 'open_acc', 'Distribution of Charged Off Loans by Open Accounts',  bins=no_of_bins, labels=bin_labels, log_scale=False)\n",
    "\n",
    "# min - 2\n",
    "# max - 38\n",
    "\n",
    "no_of_bins = 7\n",
    "bin_labels = [\n",
    "    '0-6', '6-12', '12-18', '18-24', '24-30', '30-36', '36-42'\n",
    "]\n",
    "count_plot_with_custom_bins(df_3_charged_off, 'open_acc', 'Distribution of Charged Off Loans by Open Accounts',  bins=no_of_bins, labels=bin_labels, log_scale=False)\n",
    "\n",
    "# min - 2\n",
    "# max - 38\n",
    "\n",
    "no_of_bins = 9\n",
    "bin_labels = [\n",
    "    '0-4', '4-8', '8-12', '12-16', '16-20', '20-24', '24-28', '28-32', '32-36'\n",
    "]\n",
    "count_plot_with_custom_bins(df_3_charged_off, 'open_acc', 'Distribution of Charged Off Loans by Open Accounts',  bins=no_of_bins, labels=bin_labels, log_scale=False)\n",
    "\n",
    "# min - 2\n",
    "# max - 38\n",
    "no_of_bins = 11\n",
    "bin_labels = [\n",
    "    '0-3', '3-6', '6-9', '9-12', '12-15', '15-18', '18-21', '21-24', '24-27', '27-30', '30-36'\n",
    "]\n",
    "count_plot_with_custom_bins(df_3_charged_off, 'open_acc', 'Distribution of Charged Off Loans by Open Accounts',  bins=no_of_bins, labels=bin_labels, log_scale=False)\n"
   ]
  },
  {
   "cell_type": "code",
   "execution_count": null,
   "metadata": {},
   "outputs": [],
   "source": [
    "fig, axes = plt.subplots(figsize=(15, 5))\n",
    "\n",
    "sns.countplot(x='addr_state', data=df_3_charged_off)\n",
    "plt.title('Count of Items in Each Status')\n",
    "plt.xlabel('Loan Status')\n",
    "plt.ylabel('Count')\n",
    "# rotate x-axis labels\n",
    "plt.xticks(rotation=90)\n",
    "plt.show()"
   ]
  },
  {
   "cell_type": "markdown",
   "metadata": {},
   "source": [
    "### Observations from Uni-variate Analysis\n",
    "\n",
    "From the univariate analysis, we can make the following observations that there is more possibility of defaulting when:\n",
    "* When the 'grades' is 'B'\n",
    "* When the 'sub_grade' is 'B5'\n",
    "* When the purpose is 'debt_consolidation'\n",
    "* When the 'home_ownership' is 'RENT'\n",
    "* When the 'term' is '36 months'\n",
    "* When the 'revol_util' is between '60-80'\n",
    "* When the 'loan_amnt' is between '4k-8k'\n",
    "* When the 'int_rate' is between '11%-14%'\n",
    "* When the 'installment' is between '150-300'\n",
    "* When the 'emp_length' is between '10+ years'\n",
    "* When the 'annual_inc' is between '26k-52k'\n",
    "* When the 'dti' is between '10-20'\n",
    "* When the 'open_acc' is between '3-6'\n",
    "* When the 'addr_state' is 'CA'"
   ]
  },
  {
   "cell_type": "markdown",
   "metadata": {},
   "source": [
    "## Bi-variate Analysis"
   ]
  },
  {
   "cell_type": "code",
   "execution_count": null,
   "metadata": {},
   "outputs": [],
   "source": [
    "# df_3.info()\n",
    "\n",
    "object_cols = df_3.select_dtypes(include=['object']).columns.tolist()\n",
    "int_float_cols = df_3.select_dtypes(include=['int64', 'float64']).columns.tolist()\n",
    "\n",
    "print(object_cols)\n",
    "print(int_float_cols)"
   ]
  },
  {
   "cell_type": "code",
   "execution_count": null,
   "metadata": {},
   "outputs": [],
   "source": [
    "plt.figure(figsize=(10,10))\n",
    "sns.barplot(data =df_3_charged_off,x='annual_inc', y='purpose', hue ='loan_status')\n",
    "plt.show()"
   ]
  },
  {
   "cell_type": "code",
   "execution_count": null,
   "metadata": {},
   "outputs": [],
   "source": [
    "plt.figure(figsize=(10,10))\n",
    "sns.barplot(data =df_3,x='annual_inc', y='grade', hue ='loan_status',order=['A', 'B', 'C', 'D', 'E', 'F', 'G'])\n",
    "plt.show()"
   ]
  },
  {
   "cell_type": "code",
   "execution_count": null,
   "metadata": {},
   "outputs": [],
   "source": [
    "plt.figure(figsize=(10,10))\n",
    "sns.barplot(data =df_3,x='loan_amnt', y='grade', hue ='loan_status', order=['A', 'B', 'C', 'D', 'E', 'F', 'G'])\n",
    "plt.show()"
   ]
  },
  {
   "cell_type": "code",
   "execution_count": null,
   "metadata": {},
   "outputs": [],
   "source": [
    "plt.figure(figsize=(10,10))\n",
    "sns.barplot(data =df_3_charged_off,x='annual_inc', y='home_ownership', hue ='loan_status')\n",
    "plt.show()"
   ]
  },
  {
   "cell_type": "code",
   "execution_count": null,
   "metadata": {},
   "outputs": [],
   "source": [
    "plt.figure(figsize=(10,10))\n",
    "sns.barplot(data =df_3_charged_off,x='annual_inc', y='revol_util_groups', hue ='loan_status')\n",
    "plt.show()"
   ]
  },
  {
   "cell_type": "code",
   "execution_count": null,
   "metadata": {},
   "outputs": [],
   "source": [
    "plt.figure(figsize=(10,10))\n",
    "sns.barplot(data =df_3_charged_off,x='loan_amnt', y='purpose', hue ='loan_status')\n",
    "plt.show()"
   ]
  },
  {
   "cell_type": "code",
   "execution_count": null,
   "metadata": {},
   "outputs": [],
   "source": [
    "plt.figure(figsize=(10,10))\n",
    "sns.barplot(data =df_3_charged_off,x='dti', y='purpose', hue ='loan_status')\n",
    "plt.show()"
   ]
  },
  {
   "cell_type": "code",
   "execution_count": null,
   "metadata": {},
   "outputs": [],
   "source": [
    "plt.figure(figsize=(10,10))\n",
    "sns.barplot(data =df_3_charged_off,x='emp_length', y='purpose', hue ='loan_status')\n",
    "plt.show()"
   ]
  },
  {
   "cell_type": "code",
   "execution_count": null,
   "metadata": {},
   "outputs": [],
   "source": [
    "plt.figure(figsize=(10,10))\n",
    "sns.barplot(data =df_3_charged_off,x='open_acc', y='purpose', hue ='loan_status')\n",
    "plt.show()"
   ]
  },
  {
   "cell_type": "code",
   "execution_count": null,
   "metadata": {},
   "outputs": [],
   "source": [
    "plt.figure(figsize=(10,10))\n",
    "sns.barplot(data =df_3_charged_off,x='open_acc', y='home_ownership', hue ='loan_status')\n",
    "plt.show()"
   ]
  },
  {
   "cell_type": "code",
   "execution_count": null,
   "metadata": {},
   "outputs": [],
   "source": [
    "plt.figure(figsize=(10,10))\n",
    "sns.barplot(data =df_3_charged_off,x='total_acc', y='purpose', hue ='loan_status')\n",
    "plt.show()"
   ]
  },
  {
   "cell_type": "code",
   "execution_count": null,
   "metadata": {},
   "outputs": [],
   "source": [
    "plt.figure(figsize=(10,10))\n",
    "sns.barplot(data =df_3_charged_off,x='loan_amnt', y='addr_state', hue ='loan_status')\n",
    "plt.show()"
   ]
  },
  {
   "cell_type": "code",
   "execution_count": null,
   "metadata": {},
   "outputs": [],
   "source": [
    "plt.figure(figsize=(10,10))\n",
    "sns.barplot(data =df_3_charged_off,x='annual_inc', y='addr_state', hue ='loan_status')\n",
    "plt.show()"
   ]
  },
  {
   "cell_type": "code",
   "execution_count": null,
   "metadata": {},
   "outputs": [],
   "source": [
    "plt.figure(figsize=(10,10))\n",
    "sns.barplot(data =df_3_charged_off,x='inq_last_6mths', y='addr_state', hue ='loan_status')\n",
    "plt.show()"
   ]
  },
  {
   "cell_type": "markdown",
   "metadata": {},
   "source": [
    "### Observations from Bi-variate Analysis\n",
    "\n",
    "From the bi-variate analysis, we can make the following observations that there is more possibility of defaulting when:\n",
    "* When the 'annual_inc' is between '60k-70k' purpose is 'home_improvement' or 'house' \n",
    "* When the 'annual_inc' is between '60k-70k' and 'grade' is 'F' or 'G'\n",
    "* When the 'annual_inc' is between '60k-70k' and 'home_ownership' is 'MORTGAGE'\n",
    "* When the 'annual_inc' is above '60k' and 'revol_util' is between '80-100'\n",
    "* When the 'purpose' is 'small_business' and 'loan_amnt' is '14k-16k' \n",
    "* When the 'purpose' is 'credit_card' and 'dti' is between '14-16' \n",
    "* When the 'purpose' is 'vacation' and 'emp_length' is between '6-7 years'\n",
    "* When the 'purpose' is 'house' and 'inq_last_6mths' is between '1-2' \n",
    "* When the 'home_ownership' is 'MOREGAGE' and 'open_acc' is close to '10'\n",
    "* When the 'loan_amnt' is between '15k-20k' and 'grade' is 'F'\n",
    "* When the 'addr_state' is 'WY' and 'loan_amnt' is above '15k'\n",
    "* When the 'addr_state' is 'DC' and 'annual_inc' is between '70-80k'\n",
    "* When the 'addr_state' is 'WY' and 'inq_last_6mths' is above '2'"
   ]
  }
 ],
 "metadata": {
  "kernelspec": {
   "display_name": "base",
   "language": "python",
   "name": "python3"
  },
  "language_info": {
   "codemirror_mode": {
    "name": "ipython",
    "version": 3
   },
   "file_extension": ".py",
   "mimetype": "text/x-python",
   "name": "python",
   "nbconvert_exporter": "python",
   "pygments_lexer": "ipython3",
   "version": "3.11.5"
  }
 },
 "nbformat": 4,
 "nbformat_minor": 2
}
